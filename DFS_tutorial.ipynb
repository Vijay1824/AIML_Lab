{
 "cells": [
  {
   "cell_type": "markdown",
   "id": "727b3d30-6923-4632-a157-b93925bf055c",
   "metadata": {},
   "source": [
    "Depth First Search (DFS)\n",
    "-----------------------\r\n",
    "\r\n",
    "The DFS algorithm is a recursive algorithm that uses the idea of backtracking. It involves exhaustive searches of all the nodes by going ahead, if possible, else by backtracking.\r\n",
    "\r\n",
    "Here, the word backtrack means that when you are moving forward and there are no more nodes along the current path, you move backwards on the same path to find nodes to traverse. All the nodes will be visited on the current path till all the unvisited nodes have been traversed after which the next path will be selected.\r\n",
    "\r\n",
    "This recursive nature of DFS can be implemented using stacks. The basic idea is as follows:\r\n",
    "Pick a starting node and push all its adjacent nodes into a stack.\r\n",
    "Pop a node from stack to select the next node to visit and push all its adjacent nodes into a stack.\r\n",
    "Repeat this process until the stack is empty. However, ensure that the nodes that are visited are marked. This will prevent you from visiting the same node more than once. If you do not mark the nodes that are visited and you visit the same node more than once, you may end up in an infinite loop."
   ]
  },
  {
   "cell_type": "markdown",
   "id": "65c486a2-5e6e-4793-8491-07042ddc2d64",
   "metadata": {},
   "source": [
    "Pseudocode\n",
    "----------\n",
    "    \n",
    "    DFS-iterative (G, s):                                   //Where G is graph and s is source vertex\r\n",
    "      let S be stack\r\n",
    "      S.push( s )            //Inserting s in stack \r\n",
    "      mark s as visited.\r\n",
    "      while ( S is not empty):\r\n",
    "          //Pop a vertex from stack to visit next\r\n",
    "          v  =  S.top( )\r\n",
    "         S.pop( )\r\n",
    "         //Push all the neighbours of v in stack that are not visited   \r\n",
    "        for all neighbours w of v in Graph G:\r\n",
    "            if w is not visited :\r\n",
    "                     S.push( w )         \r\n",
    "                    mark w as visited\r\n",
    "\r\n",
    "\r\n",
    "    DFS-recursive(G, s):\r\n",
    "        mark s as visited\r\n",
    "        for all neighbours w of s in Graph G:\r\n",
    "            if w is not visited:\r\n",
    "                DFS-recursive(G, w)"
   ]
  },
  {
   "cell_type": "code",
   "execution_count": 5,
   "id": "8b2dd14d-7628-412c-8672-8871297573f4",
   "metadata": {},
   "outputs": [],
   "source": [
    " # Input Graph\n",
    "graph = {\n",
    "'A' : ['B','C'],\n",
    "'B' : ['A','C','D'],\n",
    "'C' : ['A','B','E'],\n",
    "'D' : ['B','E'],\n",
    "'E' : ['C','D']\n",
    "}\n",
    "# Set used to store visited nodes.\n",
    "visitedNodes = list()"
   ]
  },
  {
   "cell_type": "code",
   "execution_count": 6,
   "id": "3634732c-1fe8-4486-a1f8-088392ef0f89",
   "metadata": {},
   "outputs": [],
   "source": [
    "# function\n",
    "def dfs(visitedNodes, graph, node):\n",
    "\tif node not in visitedNodes:\n",
    "\t\tprint (node,end=\" \")\n",
    "\t\tvisitedNodes.append(node)\n",
    "\t\tfor neighbour in graph[node]:\n",
    "\t\t\tdfs(visitedNodes, graph, neighbour)"
   ]
  },
  {
   "cell_type": "code",
   "execution_count": 7,
   "id": "f0e3e43f-a0e7-432b-a317-a2bdc6854779",
   "metadata": {},
   "outputs": [
    {
     "name": "stdin",
     "output_type": "stream",
     "text": [
      "Enter Starting Node(A, B, C, D, or E) : A\n"
     ]
    },
    {
     "name": "stdout",
     "output_type": "stream",
     "text": [
      "RESULT :\n",
      "--------------------\n",
      "A B C E D "
     ]
    }
   ],
   "source": [
    "# Driver Code\n",
    "snode = input(\"Enter Starting Node(A, B, C, D, or E) :\").upper()\n",
    "# calling bfs function\n",
    "print(\"RESULT :\")\n",
    "print(\"-\"*20)\n",
    "dfs(visitedNodes, graph, snode)"
   ]
  },
  {
   "cell_type": "code",
   "execution_count": null,
   "id": "23f5ed84-ca66-48fd-85ee-fe1935a21a03",
   "metadata": {},
   "outputs": [],
   "source": []
  }
 ],
 "metadata": {
  "kernelspec": {
   "display_name": "anaconda-2024.02-py310",
   "language": "python",
   "name": "conda-env-anaconda-2024.02-py310-py"
  },
  "language_info": {
   "codemirror_mode": {
    "name": "ipython",
    "version": 3
   },
   "file_extension": ".py",
   "mimetype": "text/x-python",
   "name": "python",
   "nbconvert_exporter": "python",
   "pygments_lexer": "ipython3",
   "version": "3.10.14"
  }
 },
 "nbformat": 4,
 "nbformat_minor": 5
}
