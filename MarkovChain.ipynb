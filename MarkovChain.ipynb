{
 "cells": [
  {
   "cell_type": "markdown",
   "id": "9ed84e73",
   "metadata": {},
   "source": [
    "### Reinforment Learning \n",
    "\n",
    "## Marcov Chain\n",
    "\n",
    "Simple Example:\n",
    "\n",
    "Problem: Predic the weather for next day<br>\n",
    "Example Dataset which is called here as **State Transistion Matrix** <br>\n",
    "\n",
    "<img src=\"stm.jpg\" alt=\"State Transistion Matrix\" width=\"300\" height=\"150\">\n",
    "\n",
    "## Refernces:\n",
    "[1. https://youtu.be/i3AkTO9HLXo](https://edpuzzle.com/join/feakwak)"
   ]
  },
  {
   "cell_type": "code",
   "execution_count": null,
   "id": "a6216707",
   "metadata": {},
   "outputs": [],
   "source": [
    "import numpy as np\n",
    "import matplotlib.pyplot as plt\n",
    "import networkx as nx\n",
    "\n",
    "\n",
    "# Define the states and transition matrix\n",
    "states = [\"S\", \"R\", \"C\"]\n",
    "transition_matrix = np.array([[0.7, 0.2, 0.1], [0.4, 0.4, 0.2], [0.3, 0.3, 0.4]])"
   ]
  },
  {
   "cell_type": "code",
   "execution_count": 14,
   "id": "26c58a6c",
   "metadata": {},
   "outputs": [
    {
     "data": {
      "image/png": "[encoded data removed]",
      "text/plain": [
       "<Figure size 400x300 with 1 Axes>"
      ]
     },
     "metadata": {},
     "output_type": "display_data"
    }
   ],
   "source": [
    "#Plot the graph \n",
    "# Create a directed graph from the transition matrix\n",
    "G = nx.DiGraph()\n",
    "\n",
    "# Add edges with weights from the transition matrix\n",
    "for i, state_from in enumerate(states):\n",
    "    for j, state_to in enumerate(states):\n",
    "        weight = transition_matrix[i][j]\n",
    "        G.add_edge(state_from, state_to, weight=weight)\n",
    "\n",
    "# Define positions for nodes\n",
    "pos = nx.circular_layout(G)  # Arrange nodes in a circular layout\n",
    "\n",
    "# Draw the graph\n",
    "plt.figure(figsize=(4, 3))\n",
    "nx.draw_networkx_nodes(G, pos, node_size=300, node_color=\"lightblue\")\n",
    "nx.draw_networkx_edges(G, pos, arrowstyle=\"->\", arrowsize=10, edge_color=\"gray\")\n",
    "nx.draw_networkx_labels(G, pos, font_size=8, font_color=\"black\")\n",
    "\n",
    "# Add edge labels (transition probabilities)\n",
    "edge_labels = {(state_from, state_to): f\"{data['weight']:.1f}\" \n",
    "               for state_from, state_to, data in G.edges(data=True)}\n",
    "nx.draw_networkx_edge_labels(G, pos, edge_labels=edge_labels, font_size=8)\n",
    "\n",
    "plt.title(\"Weather State Transition Graph\")\n",
    "plt.show()\n"
   ]
  },
  {
   "cell_type": "code",
   "execution_count": 19,
   "id": "c519c061",
   "metadata": {},
   "outputs": [
    {
     "name": "stdout",
     "output_type": "stream",
     "text": [
      "Predicted state distributions for each day:\n",
      "Day 0: [1 0 0]\n",
      "Day 1: [0.7 0.2 0.1]\n",
      "Day 2: [0.6  0.25 0.15]\n"
     ]
    }
   ],
   "source": [
    "# Lets use Markov Chain to predict the weather for the next 2 days\n",
    "# Initial state distribution (assuming starting in state \"S\")\n",
    "initial_state = np.array([1, 0, 0])  # 100% chance of starting in state \"S\"\n",
    "\n",
    "# Number of days to predict\n",
    "num_days = 2\n",
    "\n",
    "# Initialize the state distribution\n",
    "state_distribution = initial_state.copy()\n",
    "\n",
    "\n",
    "# Store the state distributions for each day\n",
    "state_distributions = [state_distribution.copy()]\n",
    "\n",
    "# Iterate through each day to predict the weather\n",
    "for day in range(num_days):\n",
    "    # Update the state distribution using the transition matrix\n",
    "    state_distribution = np.dot(state_distribution, transition_matrix)\n",
    "    state_distributions.append(state_distribution.copy())\n",
    "\n",
    "# Print the predicted state distributions for each day\n",
    "print(\"Predicted state distributions for each day:\")\n",
    "for day, distribution in enumerate(state_distributions):\n",
    "    print(f\"Day {day}: {distribution}\")\n",
    "\n",
    "# Convert state distributions to percentages\n",
    "state_distributions_percentage = [dist * 100 for dist in state_distributions]\n",
    "\n"
   ]
  },
  {
   "cell_type": "markdown",
   "id": "88b36312",
   "metadata": {},
   "source": [
    "## Activity to do\n",
    "\n",
    "1. Predict what food item will be served after 10 days for the given state diagram below <br>\n",
    "<img src=\"food.jpg\" alt=\"State Transistion Matrix\" width=\"300\" height=\"150\"> <br>\n",
    "\n",
    "2. Read the notes http://www.statslab.cam.ac.uk/~rrw1/markov/M.pdf and simulate the example disucssed"
   ]
  }
 ],
 "metadata": {
  "kernelspec": {
   "display_name": "Python 3",
   "language": "python",
   "name": "python3"
  },
  "language_info": {
   "codemirror_mode": {
    "name": "ipython",
    "version": 3
   },
   "file_extension": ".py",
   "mimetype": "text/x-python",
   "name": "python",
   "nbconvert_exporter": "python",
   "pygments_lexer": "ipython3",
   "version": "3.13.2"
  }
 },
 "nbformat": 4,
 "nbformat_minor": 5
}
