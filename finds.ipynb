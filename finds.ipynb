{
 "cells": [
  {
   "cell_type": "markdown",
   "metadata": {},
   "source": [
    "# Find-S Algorithm\n",
    "-----\n",
    "\n",
    "    Step 1: Initialize $h$ to the most specific hypothesis in $H$\n",
    "    Step 2: For each postive training instance $x$ \n",
    "        - For each attribute constraint $a_i$ in $h$\n",
    "            If the constraint $a_i$ is satisfied by x\n",
    "            Then do nothing\n",
    "            Else replace $a_i$ in $h$ by the next more general constraint that is satisfied by $x$\n",
    "    Step 3: Output hypothesis in h\n"
   ]
  },
  {
   "cell_type": "code",
   "execution_count": 1,
   "metadata": {},
   "outputs": [
    {
     "name": "stdout",
     "output_type": "stream",
     "text": [
      "The dataset is:\n",
      "      sky airtemp humidity    wind water forecast enjoy\n",
      "0  sunny    warm   normal  strong  warm     same     Y\n",
      "1  sunny    warm     high  strong  warm     same     Y\n",
      "2  rainy    cold     high  strong  warm   change     N\n",
      "3  sunny    warm     high  strong  cool   change     Y\n"
     ]
    }
   ],
   "source": [
    "import pandas as pd\n",
    "df = pd.read_csv(\"enjoysport.csv\")\n",
    "print('The dataset is:\\n', df)"
   ]
  },
  {
   "cell_type": "code",
   "execution_count": 2,
   "metadata": {},
   "outputs": [],
   "source": [
    "data = df.iloc[0:, 0:7].values"
   ]
  },
  {
   "cell_type": "code",
   "execution_count": 3,
   "metadata": {},
   "outputs": [],
   "source": [
    "h = ['0','0','0','0','0','0']"
   ]
  },
  {
   "cell_type": "code",
   "execution_count": 4,
   "metadata": {},
   "outputs": [],
   "source": [
    "def Generalize(h, a):\n",
    "    for i in range(len(a)):\n",
    "        if(h[i] != a[i]):\n",
    "            h[i] = '?'\n",
    "        else:\n",
    "            h[i] = a[i]\n",
    "    return(h)"
   ]
  },
  {
   "cell_type": "code",
   "execution_count": 5,
   "metadata": {},
   "outputs": [
    {
     "name": "stdout",
     "output_type": "stream",
     "text": [
      "The more general than hypothesis is: ['sunny' 'warm' '?' 'strong' '?' '?']\n"
     ]
    }
   ],
   "source": [
    "X = data[:, 0:6]\n",
    "Y = data[:, -1]\n",
    "if Y[0] == \"Y\":\n",
    "    h = X[0,:]\n",
    "else:\n",
    "    print(\"Error: First Example in not positive\")\n",
    "    \n",
    "for i in range(len(X)):\n",
    "    if(Y[i] == \"Y\"):\n",
    "        h = Generalize(h,X[i,:])\n",
    "\n",
    "print(\"The more general than hypothesis is:\", h)"
   ]
  }
 ],
 "metadata": {
  "kernelspec": {
   "display_name": "Python 3",
   "language": "python",
   "name": "python3"
  },
  "language_info": {
   "codemirror_mode": {
    "name": "ipython",
    "version": 3
   },
   "file_extension": ".py",
   "mimetype": "text/x-python",
   "name": "python",
   "nbconvert_exporter": "python",
   "pygments_lexer": "ipython3",
   "version": "3.13.2"
  }
 },
 "nbformat": 4,
 "nbformat_minor": 2
}
