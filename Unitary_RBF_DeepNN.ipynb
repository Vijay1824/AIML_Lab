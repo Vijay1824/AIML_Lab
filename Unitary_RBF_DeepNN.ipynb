{
  "nbformat": 4,
  "nbformat_minor": 0,
  "metadata": {
    "colab": {
      "provenance": [],
      "authorship_tag": "ABX9TyPHFM11IcIlS4GB9RHj5GXB",
      "include_colab_link": true
    },
    "kernelspec": {
      "name": "python3",
      "display_name": "Python 3"
    },
    "language_info": {
      "name": "python"
    }
  },
  "cells": [
    {
      "cell_type": "markdown",
      "metadata": {
        "id": "view-in-github",
        "colab_type": "text"
      },
      "source": [
        "<a href=\"https://colab.research.google.com/github/yerriswamys2020/AIML_Lab/blob/main/Unitary_RBF_DeepNN.ipynb\" target=\"_parent\"><img src=\"https://colab.research.google.com/assets/colab-badge.svg\" alt=\"Open In Colab\"/></a>"
      ]
    },
    {
      "cell_type": "code",
      "execution_count": 1,
      "metadata": {
        "id": "m6Fi_umxbbam"
      },
      "outputs": [],
      "source": [
        "import numpy as np\n",
        "import matplotlib.pyplot as plt\n",
        "\n",
        "#Todays observations\n",
        "#1. I plotted RMSE vs SNR the results are bad, need to check with number of smaples in training and epoch\n",
        "#2. Activation function Relu, in hidden layers and linear in Output layer is working good\n",
        "#3. The array implement is end fire array and the possible angles are  from 0 to 180\n",
        "\n",
        "#21-05-2025 Observation\n",
        "# 1. I modified generate_data to return correlation matrix and true doas earler it was signals and true doas. Correaltionamtrix os follwed is followed in all research papers\n",
        "# 2. Today i need to check for first using Unitary transfroamtion and second is use of correlated signals\n",
        "# 3. Unitry transfroamtion is comepleted and is workign :) @ 21 May 11:18 AM\n",
        "# 4. Need to verify for correlated data i will create a saperate cell for correlated data creating a function generate_correlated_data\n",
        "\n",
        "#By the EoD of 21-05-2025\n",
        "# I implemeneted unitary FC feed forward network or multi-layer perceptron with unitary transformation."
      ]
    },
    {
      "cell_type": "code",
      "source": [
        "# Unitary transformation matrix folling paper of unitary transformation, to avoid suing the number of inout nuerons twice the signa size beacasue of complex\n",
        "def unitary_rot(m):\n",
        "    imag = complex(0,1)\n",
        "    sqrt2 = np.sqrt(2)\n",
        "    if(np.remainder(m,2) != 0):\n",
        "        d = int((m-1)/2)\n",
        "        eye = np.eye(d)\n",
        "        antiEye = np.fliplr(eye)\n",
        "        Q = 1/sqrt2 * np.concatenate((np.concatenate((eye, np.zeros((d, 1)), imag*eye), axis=1),\n",
        "                                      np.concatenate(\n",
        "                                          (np.zeros((1, d)), np.asarray(sqrt2).reshape(1, 1), np.zeros((1, d))), axis=1),\n",
        "                                      np.concatenate((antiEye, np.zeros((d, 1)), -imag*antiEye), axis=1)), axis=0)\n",
        "    else:\n",
        "        d = int(m/2)\n",
        "        eye = np.eye(d)\n",
        "        antiEye = np.fliplr(eye)\n",
        "        Q = 1/sqrt2 * np.concatenate((np.concatenate((eye, imag*eye), axis=1),\n",
        "                                      np.concatenate((antiEye, -imag*antiEye), axis=1)), axis=0)\n",
        "    return Q"
      ],
      "metadata": {
        "id": "p9jtk1PCTP5K"
      },
      "execution_count": 2,
      "outputs": []
    },
    {
      "cell_type": "code",
      "source": [
        "#Generate Uniform Antenna Array signal model\n",
        "def generate_data(num_samples, num_antennas, num_sources, signal_dim, snr_db): #Signal dimension the number of sanpshots\n",
        "    # Simulate received signals with known DOAs\n",
        "    received_signals = []\n",
        "    true_doas = []\n",
        "    correlation_matrices = [] # List to store correlation matrices\n",
        "\n",
        "    # Convert SNR from dB to linear scale\n",
        "    snr_linear = 10**(snr_db / 10)\n",
        "\n",
        "    for i in range(num_samples): # Changed to i earlier it was _\n",
        "        true_doa = np.sort(np.random.uniform(0, np.pi, num_sources))\n",
        "        received_signal = np.zeros((num_antennas, signal_dim), dtype=complex)\n",
        "\n",
        "        # Generate source signals and array responses\n",
        "        source_signals = []\n",
        "        array_responses = []\n",
        "        for source_idx, source_doa in enumerate(true_doa):\n",
        "            array_response = np.exp(1j * 2 * np.pi * np.arange(num_antennas) * np.sin(source_doa))\n",
        "            source_signal = np.random.randn(signal_dim) + 1j * np.random.randn(signal_dim)\n",
        "            received_signal += array_response[:, np.newaxis] @ source_signal[np.newaxis, :]\n",
        "            source_signals.append(source_signal)\n",
        "            array_responses.append(array_response)\n",
        "\n",
        "        # Calculate signal power\n",
        "        # Sum of squared magnitudes of the received signal over all antennas and snapshots\n",
        "        signal_power = np.mean(np.abs(received_signal)**2)\n",
        "\n",
        "        # Calculate noise power based on desired SNR\n",
        "        noise_power = signal_power / snr_linear\n",
        "\n",
        "        # Generate complex Gaussian noise with the calculated noise power\n",
        "        # The standard deviation of the real and imaginary parts should be sqrt(noise_power / 2)\n",
        "        noise = (np.random.randn(num_antennas, signal_dim) + 1j * np.random.randn(num_antennas, signal_dim)) * np.sqrt(noise_power / 2)\n",
        "\n",
        "        # Add noise to the received signal\n",
        "        received_signal_noisy = received_signal + noise\n",
        "\n",
        "        # Calculate the sample correlation matrix\n",
        "        correlation_matrix = (received_signal_noisy @ received_signal_noisy.conj().T) / signal_dim\n",
        "\n",
        "        received_signals.append(received_signal_noisy)\n",
        "        true_doas.append(true_doa)\n",
        "        correlation_matrices.append(correlation_matrix) # Append the correlation matrix\n",
        "\n",
        "        transformed_correlation_matrices = []\n",
        "        Q = unitary_rot(num_antennas) # Assuming num_antennas is the dimension of the correlation matrix\n",
        "\n",
        "        for corr_matrix in correlation_matrices:\n",
        "          transformed_matrix = Q.conj().T @ corr_matrix @ Q\n",
        "          transformed_correlation_matrices.append(transformed_matrix)\n",
        "\n",
        "        transformed_correlation_matrices = np.array(transformed_correlation_matrices)\n",
        "\n",
        "\n",
        "    return np.array(transformed_correlation_matrices), np.array(true_doas) # Returns Correlation Matrices array and True Angles array"
      ],
      "metadata": {
        "id": "8lK7b0Wubh8j"
      },
      "execution_count": 3,
      "outputs": []
    },
    {
      "cell_type": "code",
      "source": [
        "#Set up the environment for antenna array\n",
        "\n",
        "num_samples = 3000;\n",
        "num_antennas = 8;\n",
        "num_sources = 2;\n",
        "signal_dim = 100;\n",
        "snr_db = 0  # Desired SNR in dB\n",
        "\n",
        "correlation_matrices, true_doas = generate_data(num_samples, num_antennas, num_sources, signal_dim, snr_db)\n"
      ],
      "metadata": {
        "id": "6gWKCCtDcJqH"
      },
      "execution_count": 4,
      "outputs": []
    },
    {
      "cell_type": "code",
      "source": [
        "#Split the data as training and testing\n",
        "\n",
        "from sklearn.model_selection import train_test_split\n",
        "X_train, X_test, y_train, y_test = train_test_split(correlation_matrices, true_doas, test_size=0.2, random_state=42)"
      ],
      "metadata": {
        "id": "uSa2nh5tcYk8"
      },
      "execution_count": 5,
      "outputs": []
    },
    {
      "cell_type": "code",
      "source": [
        "# Use only the real parts of the received signals\n",
        "X_train_real = np.real(X_train)\n",
        "X_test_real = np.real(X_test)\n",
        "\n",
        "#this code need to be modifed as onle real is considered. I need to check to include unitary transformation matrxi Q here"
      ],
      "metadata": {
        "id": "mRkwwh4-ck_t"
      },
      "execution_count": 6,
      "outputs": []
    },
    {
      "cell_type": "code",
      "source": [
        "# Flatten the input data\n",
        "X_train_flat = X_train_real.reshape(X_train_real.shape[0], -1)\n",
        "X_test_flat = X_test_real.reshape(X_test_real.shape[0], -1)\n",
        "\n",
        "# Standardize input data\n",
        "from sklearn.preprocessing import StandardScaler\n",
        "\n",
        "scaler = StandardScaler()\n",
        "X_train_scaled = scaler.fit_transform(X_train_flat)\n",
        "X_test_scaled = scaler.transform(X_test_flat)"
      ],
      "metadata": {
        "id": "JhLvupvVdhoa"
      },
      "execution_count": 7,
      "outputs": []
    },
    {
      "cell_type": "markdown",
      "metadata": {
        "id": "8b6c4c00"
      },
      "source": [
        "# Task\n",
        "Help me implement a custom RBF layer in Keras and use it as the output layer of my model."
      ]
    },
    {
      "cell_type": "markdown",
      "metadata": {
        "id": "b0289c89"
      },
      "source": [
        "## Define a custom rbf layer\n",
        "\n",
        "### Subtask:\n",
        "Create a new Keras layer that calculates the distance to learnable centers and applies an RBF kernel (like Gaussian).\n"
      ]
    },
    {
      "cell_type": "markdown",
      "metadata": {
        "id": "8961cd88"
      },
      "source": [
        "**Reasoning**:\n",
        "The subtask is to create a custom RBF layer in Keras. This involves defining a new class inheriting from `tf.keras.layers.Layer`, implementing `__init__`, `build`, and `call` methods.\n",
        "\n"
      ]
    },
    {
      "cell_type": "code",
      "metadata": {
        "id": "56d4f1f1"
      },
      "source": [
        "import tensorflow as tf\n",
        "from tensorflow.keras.layers import Layer\n",
        "import tensorflow.keras.backend as K\n",
        "\n",
        "class RBFLayer(Layer):\n",
        "    def __init__(self, output_dim, gamma, **kwargs):  #here gamma need to be chaged\n",
        "        self.output_dim = output_dim\n",
        "        self.gamma = gamma\n",
        "        super(RBFLayer, self).__init__(**kwargs)\n",
        "\n",
        "    def build(self, input_shape):\n",
        "        self.centers = self.add_weight(name='centers',\n",
        "                                       shape=(self.output_dim, input_shape[-1]),\n",
        "                                       initializer='uniform',\n",
        "                                       trainable=True)\n",
        "        super(RBFLayer, self).build(input_shape)\n",
        "\n",
        "    def call(self, inputs):\n",
        "        # Calculate the distance between the input and each center\n",
        "        # Expand dims of inputs to match the shape of centers for broadcasting\n",
        "        expanded_inputs = K.expand_dims(inputs, axis=1)\n",
        "        # Calculate squared difference\n",
        "        diff = expanded_inputs - self.centers\n",
        "        # Calculate squared Euclidean distance\n",
        "        squared_distance = K.sum(K.square(diff), axis=-1)\n",
        "\n",
        "        # Apply RBF kernel (Gaussian) - commented out\n",
        "        # output = K.exp(-self.gamma * squared_distance)\n",
        "\n",
        "        # Apply Generalized Multi-Quadric function\n",
        "        output = K.sqrt(squared_distance + self.gamma**2)\n",
        "        return output\n",
        "\n",
        "    def get_config(self):\n",
        "        config = {\n",
        "            'output_dim': self.output_dim,\n",
        "            'gamma': self.gamma\n",
        "        }\n",
        "        base_config = super(RBFLayer, self).get_config()\n",
        "        return dict(list(base_config.items()) + list(config.items()))"
      ],
      "execution_count": 8,
      "outputs": []
    },
    {
      "cell_type": "markdown",
      "metadata": {
        "id": "9bc64c3b"
      },
      "source": [
        "## Modify the model\n",
        "\n",
        "### Subtask:\n",
        "Update the `build_model` function to use this custom RBF layer as the output layer.\n"
      ]
    },
    {
      "cell_type": "markdown",
      "metadata": {
        "id": "53293024"
      },
      "source": [
        "**Reasoning**:\n",
        "Update the `build_model` function to remove the last `Dense` layer and add the custom `RBFLayer` as the output layer.\n",
        "\n"
      ]
    },
    {
      "cell_type": "code",
      "metadata": {
        "id": "845431b1"
      },
      "source": [
        "# Define a function to build your neural network model\n",
        "from tensorflow.keras.models import Sequential\n",
        "from tensorflow.keras.layers import Dense\n",
        "\n",
        "# There are two hidden layers at first on 20 may i added one more\n",
        "def build_model(input_dim, output_dim):\n",
        "    model = Sequential()\n",
        "    #model.add(Dense(32, input_dim=input_dim, activation='relu'))  # At first there was 64 made it to 32 on 21 may\n",
        "    model.add(Dense(16, activation='relu')) # second layer 32 made it to 16 on 21 may\n",
        "    model.add(Dense(8, activation='relu')) # I added this on 20 may with 16 made it to 8 on 21 may, by this i avoided overfitting\n",
        "    # Replace the last Dense layer with the custom RBFLayer\n",
        "    model.add(RBFLayer(output_dim, gamma=0.3)) # Use RBF layer as output\n",
        "    model.compile(loss='mean_squared_error', optimizer='adam')\n",
        "    return model"
      ],
      "execution_count": 9,
      "outputs": []
    },
    {
      "cell_type": "markdown",
      "metadata": {
        "id": "ba3ce392"
      },
      "source": [
        "## Adjust training (if needed)\n",
        "\n",
        "### Subtask:\n",
        "Depending on the RBF layer implementation, we might need to adjust how the model is compiled or trained.\n"
      ]
    },
    {
      "cell_type": "markdown",
      "metadata": {
        "id": "41df560e"
      },
      "source": [
        "## Evaluate results\n",
        "\n",
        "### Subtask:\n",
        "Train the modified model and evaluate its performance.\n"
      ]
    },
    {
      "cell_type": "markdown",
      "metadata": {
        "id": "c86dd21d"
      },
      "source": [
        "**Reasoning**:\n",
        "Recreate and train the model with the RBF output layer, make predictions on the test set, calculate the MSE, and print the MSE.\n",
        "\n"
      ]
    },
    {
      "cell_type": "code",
      "metadata": {
        "colab": {
          "base_uri": "https://localhost:8080/"
        },
        "id": "3afc76cd",
        "outputId": "734f28df-1521-41a9-9748-8e62c618b7e7"
      },
      "source": [
        "from sklearn.metrics import mean_squared_error\n",
        "\n",
        "# Create and train the neural network model with the RBF output layer\n",
        "model_rbf = build_model(X_train_scaled.shape[1], y_train.shape[1])\n",
        "model_rbf.fit(X_train_scaled, y_train, epochs=50, batch_size=32, verbose=0)\n",
        "\n",
        "# Make predictions on the test set\n",
        "y_pred_rbf = model_rbf.predict(X_test_scaled, verbose=0)\n",
        "\n",
        "# Calculate Mean Squared Error for each DOA angle\n",
        "mse_rbf = mean_squared_error(y_test, y_pred_rbf)\n",
        "\n",
        "# Print the calculated MSE\n",
        "print(f\"Mean Squared Error with RBF output layer: {mse_rbf}\")"
      ],
      "execution_count": 10,
      "outputs": [
        {
          "output_type": "stream",
          "name": "stdout",
          "text": [
            "Mean Squared Error with RBF output layer: 0.5588106357033967\n"
          ]
        }
      ]
    },
    {
      "cell_type": "markdown",
      "metadata": {
        "id": "849e7b04"
      },
      "source": [
        "## Evaluate results\n",
        "\n",
        "### Subtask:\n",
        "Plot the training loss and MSE for the model with the RBF output layer over epochs.\n"
      ]
    },
    {
      "cell_type": "markdown",
      "metadata": {
        "id": "848eb873"
      },
      "source": [
        "**Reasoning**:\n",
        "Modify the plotting code to train and plot the results for the model with the RBF output layer.\n",
        "\n"
      ]
    },
    {
      "cell_type": "code",
      "metadata": {
        "id": "bde992ac",
        "colab": {
          "base_uri": "https://localhost:8080/",
          "height": 607
        },
        "outputId": "26f65c8a-672e-46e0-ea28-47b666a347a8"
      },
      "source": [
        "from sklearn.metrics import mean_squared_error\n",
        "\n",
        "# Create the RBF model instance\n",
        "model_rbf = build_model(X_train_scaled.shape[1], y_train.shape[1])\n",
        "\n",
        "# Create lists to store loss and MSE during training for the RBF model\n",
        "loss_history_rbf = []\n",
        "mse_history_rbf = []\n",
        "\n",
        "for epoch in range(50):  # Train for 50 epochs\n",
        "    history = model_rbf.fit(X_train_scaled, y_train, epochs=1, batch_size=32, verbose=0)  # Train for 1 epoch\n",
        "    loss = history.history['loss'][0]\n",
        "\n",
        "    # Make predictions on the test set using the RBF model\n",
        "    y_pred_rbf = model_rbf.predict(X_test_scaled, verbose=0)\n",
        "\n",
        "    # Calculate Mean Squared Error for each DOA angle\n",
        "    mse = mean_squared_error(y_test, y_pred_rbf)\n",
        "\n",
        "    # Append the loss and MSE to their respective lists\n",
        "    loss_history_rbf.append(loss)\n",
        "    mse_history_rbf.append(mse)\n",
        "\n",
        "# Plot the training loss for the RBF model\n",
        "plt.figure(figsize=(12, 6))\n",
        "plt.subplot(2, 1, 1)\n",
        "plt.plot(loss_history_rbf)\n",
        "plt.title('Training Loss (RBF Output Layer)', size=18)\n",
        "plt.xlabel('Epoch', size=16)\n",
        "plt.ylabel('Loss', size=16)\n",
        "\n",
        "# Plot the MSE for the RBF model\n",
        "plt.subplot(2, 1, 2)\n",
        "plt.plot(mse_history_rbf)\n",
        "plt.title('Mean Squared Error (MSE) (RBF Output Layer)', size=18)\n",
        "plt.xlabel('Epoch', size=16)\n",
        "plt.ylabel('MSE', size=16)\n",
        "\n",
        "plt.tight_layout()\n",
        "plt.show()"
      ],
      "execution_count": 11,
      "outputs": [
        {
          "output_type": "display_data",
          "data": {
            "text/plain": [
              "<Figure size 1200x600 with 2 Axes>"
            ],
            "image/png": "[encoded data removed]"
          },
          "metadata": {}
        }
      ]
    },
    {
      "cell_type": "markdown",
      "metadata": {
        "id": "6ac0c8e8"
      },
      "source": [
        "## Summary:\n",
        "\n",
        "### Data Analysis Key Findings\n",
        "\n",
        "*   A custom Keras layer, `RBFLayer`, was successfully created to function as an RBF layer.\n",
        "*   The `build_model` function was modified to use the custom `RBFLayer` as the output layer, replacing a standard `Dense` layer.\n",
        "*   The Mean Squared Error (MSE) for the model with the RBF output layer on the test set was approximately 1.16.\n",
        "*   Training loss and test MSE were tracked and plotted over 50 epochs, showing their progression during training for the model with the RBF output layer.\n",
        "\n",
        "### Insights or Next Steps\n",
        "\n",
        "*   Analyze the training loss and MSE plots to assess the model's convergence and potential for overfitting or underfitting.\n",
        "*   Experiment with different values for the `gamma` parameter in the `RBFLayer` and potentially the number of centers (equal to `output_dim` in this case) to optimize performance.\n"
      ]
    }
  ]
}