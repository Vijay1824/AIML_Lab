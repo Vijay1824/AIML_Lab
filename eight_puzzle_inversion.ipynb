{
 "cells": [
  {
   "cell_type": "markdown",
   "metadata": {},
   "source": [
    "Notes:\n",
    "----\n",
    "\n",
    "There is a method to check whether the given state is solvable or not.\n",
    "Problem state:\n",
    "1|2|3\n",
    "-+-+-\n",
    "4|5|6\n",
    "-+-+-\n",
    " |8|7\n",
    "\n",
    "Write it in a linear way, 1,2,3,4,5,6,8,7 - Ignore the blank tile. Now find the number of inversion, by counting tiles precedes the another tile with lower number. In our case, 1,2,3,4,5,6,7 is having 0 inversions, and 8 is having 1 inversion as it's preceding the number 7. Total number of inversion is 1 (odd number) so the puzzle is insolvable.\n",
    "\n",
    "Let's take another example,\n",
    "\n",
    "5|2|8\n",
    "-+-+-\n",
    "4|1|7\n",
    "-+-+-\n",
    " |3|6\n",
    "\n",
    "5 precedes 1,2,3,4 - 4 inversions\n",
    "2 precedes 1 - 1 inversion\n",
    "8 precedes 1,3,4,6,7 - 5 inversions\n",
    "4 precedes 1,3 - 2 inversions\n",
    "1 precedes none - 0 inversions\n",
    "7 precedes 3,4 - 2 inversions\n",
    "3 precedes none - 0 inversions\n",
    "6 precedes none - 0 inversions\n",
    "\n",
    "total inversions 4+1+5+2+0+2+0+0 = 14 (Even Number) So this puzzle is solvable.\n",
    "\n",
    "Acknowledgement: https://math.stackexchange.com/questions/293527/how-to-check-if-a-8-puzzle-is-solvable#comment638884_293527"
   ]
  },
  {
   "cell_type": "code",
   "execution_count": 1,
   "metadata": {},
   "outputs": [],
   "source": [
    "# A utility function to count\n",
    "# inversions in given array 'arr[]'\n",
    "def getInvCount(arr):\n",
    "\tinv_count = 0\n",
    "\tempty_value = -1\n",
    "\tfor i in range(0, 9):\n",
    "\t\tfor j in range(i + 1, 9):\n",
    "\t\t\tif arr[j] != empty_value and arr[i] != empty_value and arr[i] > arr[j]:\n",
    "\t\t\t\tinv_count += 1\n",
    "\treturn inv_count"
   ]
  },
  {
   "cell_type": "code",
   "execution_count": 2,
   "metadata": {},
   "outputs": [],
   "source": [
    "# This function returns true\n",
    "# if given 8 puzzle is solvable.\n",
    "def isSolvable(puzzle) :\n",
    " \n",
    "    # Count inversions in given 8 puzzle\n",
    "    inv_count = getInvCount([j for sub in puzzle for j in sub])\n",
    "    print(\"Total Number of Inversions:\", inv_count)\n",
    " \n",
    "    # return true if inversion count is even.\n",
    "    return (inv_count % 2 == 0)"
   ]
  },
  {
   "cell_type": "markdown",
   "metadata": {},
   "source": [
    "Let's take another example,\n",
    "\n",
    "8|1|2\n",
    "-+-+-\n",
    " |4|3\n",
    "-+-+-\n",
    "7|6|5\n",
    "\n",
    "8 precedes 1,2,3,4,5,6,7 - 7 inversions\n",
    "4 precedes 3 - 1 inversion\n",
    "7 precedes 6,5 - 2 inversions\n",
    "6 precedes 5 - 1 inversions\n",
    "\n",
    "total inversions 7+1+2+1 = 11 (Odd Number) So this puzzle is insolvable.\n"
   ]
  },
  {
   "cell_type": "code",
   "execution_count": 3,
   "metadata": {},
   "outputs": [
    {
     "name": "stdout",
     "output_type": "stream",
     "text": [
      "Total Number of Inversions: 14\n",
      "Solvable\n"
     ]
    }
   ],
   "source": [
    "# Main Code\n",
    "test1_puzzle = [[8, 1, 2],[-1, 4, 3],[7, 6, 5]] # -1 represent empty tile, this example is not solvable\n",
    "test2_puzzle = [[5, 2, 8],[4, 1, 7],[-1, 3, 6]] # this example is solvable\n",
    "\n",
    "if(isSolvable(test2_puzzle)) :\n",
    "    print(\"Solvable\")\n",
    "else :\n",
    "    print(\"Not Solvable\")"
   ]
  },
  {
   "cell_type": "code",
   "execution_count": null,
   "metadata": {},
   "outputs": [],
   "source": []
  }
 ],
 "metadata": {
  "kernelspec": {
   "display_name": "Python 3",
   "language": "python",
   "name": "python3"
  },
  "language_info": {
   "codemirror_mode": {
    "name": "ipython",
    "version": 3
   },
   "file_extension": ".py",
   "mimetype": "text/x-python",
   "name": "python",
   "nbconvert_exporter": "python",
   "pygments_lexer": "ipython3",
   "version": "3.13.2"
  }
 },
 "nbformat": 4,
 "nbformat_minor": 2
}
