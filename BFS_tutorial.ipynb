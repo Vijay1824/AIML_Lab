{
 "cells": [
  {
   "cell_type": "markdown",
   "id": "4b7a4248-80fe-42f9-ab6b-db65ed6e2dc4",
   "metadata": {},
   "source": [
    "Notes: \n",
    "------\n",
    "\n",
    "Graph traversals: \n",
    "-----------------\n",
    "\n",
    "Graph traversal means visiting every vertex and edge exactly once in a well-defined order. While using certain graph algorithms, you must ensure \n",
    "that each vertex of the graph is visited exactly once. The order in which the vertices are visited are important and may depend \n",
    "upon the algorithm or question that you are solving. During a traversal, it is important that you track which vertices have been visited. \n",
    "The most common way of tracking vertices is to mark them.\n",
    "\n",
    "Breadth First Search (BFS)\n",
    "--------------------------\n",
    "\n",
    "There are many ways to traverse graphs. BFS is the most commonly used approach. BFS is a traversing algorithm where you should start traversing \n",
    "from a selected node (source or starting node) and traverse the graph layerwise thus exploring the neighbour nodes (nodes which are directly \n",
    "connected to source node). You must then move towards the next-level neighbour nodes. As the name BFS suggests, you are required to traverse \n",
    "the graph breadthwise as follows:\n",
    "1. First move horizontally and visit all the nodes of the current layer\n",
    "2. Move to the next layer"
   ]
  },
  {
   "cell_type": "markdown",
   "id": "ec20a25d-bf17-4e2c-a03c-85d343378310",
   "metadata": {},
   "source": [
    "Pseudocode of BFS:\n",
    "-----------------\n",
    "\n",
    "BFS (G, s)                   //Where G is the graph and s is the source node\n",
    "      let Q be queue.\n",
    "      Q.enqueue( s ) //Inserting s in queue until all its neighbour vertices are marked.\n",
    "\n",
    "      mark s as visited.\n",
    "      while ( Q is not empty)\n",
    "           //Removing that vertex from queue,whose neighbour will be visited now\n",
    "           v  =  Q.dequeue( )\n",
    "\n",
    "          //processing all the neighbours of v  \n",
    "          for all neighbours w of v in Graph G\n",
    "               if w is not visited \n",
    "                        Q.enqueue( w )             //Stores w in Q to further visit its neighbour\n",
    "                        mark w as visited."
   ]
  },
  {
   "cell_type": "code",
   "execution_count": 14,
   "id": "0016c17e-503d-4a9c-8a87-7326ea5efeb4",
   "metadata": {},
   "outputs": [],
   "source": [
    " # Input Graph\n",
    "graph = {\n",
    "'A' : ['B','C'],\n",
    "'B' : ['A','C','D'],\n",
    "'C' : ['A','B','E'],\n",
    "'D' : ['B','E'],\n",
    "'E' : ['C','D']\n",
    "}\n",
    "# To store visited nodes.\n",
    "visitedNodes = []\n",
    "# To store nodes in queue\n",
    "queueNodes = [] "
   ]
  },
  {
   "cell_type": "code",
   "execution_count": 10,
   "id": "8396aa92-0928-4b1f-a91e-6947e33b7fcc",
   "metadata": {},
   "outputs": [],
   "source": [
    "# function\n",
    "def bfs(visitedNodes, graph, snode):\n",
    "\tvisitedNodes.append(snode)\n",
    "\tqueueNodes.append(snode)\n",
    "\tprint()\n",
    "\tprint(\"RESULT :\")\n",
    "\twhile queueNodes:\n",
    "\t\ts = queueNodes.pop(0)\n",
    "\t\tprint (s, end = \" \")\n",
    "\t\tfor neighbour in graph[s]:\n",
    "\t\t\tif neighbour not in visitedNodes:\n",
    "\t\t\t\tvisitedNodes.append(neighbour)\n",
    "\t\t\t\tqueueNodes.append(neighbour)"
   ]
  },
  {
   "cell_type": "code",
   "execution_count": 11,
   "id": "1e317226-176a-4157-a6db-73228530c20c",
   "metadata": {},
   "outputs": [
    {
     "name": "stdin",
     "output_type": "stream",
     "text": [
      "Enter Starting Node(A, B, C, D, or E) : A\n"
     ]
    },
    {
     "name": "stdout",
     "output_type": "stream",
     "text": [
      "\n",
      "RESULT :\n",
      "A B C D E "
     ]
    }
   ],
   "source": [
    "# Main Code\n",
    "snode = input(\"Enter Starting Node(A, B, C, D, or E) :\").upper()\n",
    "# calling bfs function\n",
    "bfs(visitedNodes, graph, snode)"
   ]
  }
 ],
 "metadata": {
  "kernelspec": {
   "display_name": "anaconda-panel-2023.05-py310",
   "language": "python",
   "name": "conda-env-anaconda-panel-2023.05-py310-py"
  },
  "language_info": {
   "codemirror_mode": {
    "name": "ipython",
    "version": 3
   },
   "file_extension": ".py",
   "mimetype": "text/x-python",
   "name": "python",
   "nbconvert_exporter": "python",
   "pygments_lexer": "ipython3",
   "version": "3.11.5"
  }
 },
 "nbformat": 4,
 "nbformat_minor": 5
}
