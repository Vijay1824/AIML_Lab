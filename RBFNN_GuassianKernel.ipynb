{
 "cells": [
  {
   "cell_type": "markdown",
   "id": "e8a42904",
   "metadata": {},
   "source": [
    "# Architecture of RBFNN \n",
    "<img src=\"Architecture-RBFNN.png\" alt=\"RBFNN Architecture\" width=\"400\">\n",
    "\n",
    "### References:\n",
    "1. For Kernal and Centers - https://ise.ncsu.edu/wp-content/uploads/sites/9/2022/08/RBFNN.pdf <br>\n",
    "2. For simple understanding - https://mccormickml.com/2013/08/15/radial-basis-function-network-rbfn-tutorial/ <br>\n",
    "3. For implemetnation - https://www.geeksforgeeks.org/what-are-radial-basis-function-neural-networks/ "
   ]
  },
  {
   "cell_type": "code",
   "execution_count": 1,
   "id": "de626ca0",
   "metadata": {},
   "outputs": [],
   "source": [
    "import numpy as np"
   ]
  },
  {
   "cell_type": "code",
   "execution_count": 2,
   "id": "32db7c8f",
   "metadata": {},
   "outputs": [],
   "source": [
    "# XOR Gate Data\n",
    "X = np.array([[0, 0], [0, 1], [1, 0], [1, 1]])\n",
    "Y = np.array([[0], [1], [1], [0]])  # NAND problem"
   ]
  },
  {
   "cell_type": "code",
   "execution_count": 3,
   "id": "f3622505",
   "metadata": {},
   "outputs": [],
   "source": [
    "# Gaussian Radial Basis Function (RBF) kernel\n",
    "def rbf_kernel(x1, x2, sigma=1.0):\n",
    "    return np.exp(-np.linalg.norm(x1 - x2) ** 2 / (2 * (sigma ** 2)))\n"
   ]
  },
  {
   "cell_type": "code",
   "execution_count": 4,
   "id": "a62317bb",
   "metadata": {},
   "outputs": [],
   "source": [
    "# Choose centers using k-means\n",
    "from sklearn.cluster import KMeans\n",
    "\n",
    "kmeans = KMeans(n_clusters=4).fit(X)\n",
    "centers = kmeans.cluster_centers_"
   ]
  },
  {
   "cell_type": "code",
   "execution_count": 5,
   "id": "c91339b2",
   "metadata": {},
   "outputs": [],
   "source": [
    "# Calculate the spread parameter\n",
    "\n",
    "from scipy.spatial.distance import cdist\n",
    "d_max = np.max(cdist(centers, centers, 'euclidean'))\n",
    "sigma = d_max / np.sqrt(2 * len(centers))"
   ]
  },
  {
   "cell_type": "code",
   "execution_count": 6,
   "id": "47d2a4f6",
   "metadata": {},
   "outputs": [],
   "source": [
    "# Compute the RBF layer output\n",
    "R = np.zeros((X.shape[0], len(centers)))\n",
    "for i in range(X.shape[0]):\n",
    "    for j in range(len(centers)):\n",
    "        R[i, j] = rbf_kernel(X[i], centers[j], sigma)\n"
   ]
  },
  {
   "cell_type": "code",
   "execution_count": 7,
   "id": "44ac91f9",
   "metadata": {},
   "outputs": [],
   "source": [
    "# Compute the output weights\n",
    "W = np.dot(np.linalg.pinv(R), Y)"
   ]
  },
  {
   "cell_type": "code",
   "execution_count": 8,
   "id": "11098a20",
   "metadata": {},
   "outputs": [],
   "source": [
    "# Define the RBF network prediction function\n",
    "def rbf_network(X, centers, sigma, W):\n",
    "    R = np.zeros((X.shape[0], len(centers)))\n",
    "    for i in range(X.shape[0]):\n",
    "        for j in range(len(centers)):\n",
    "            R[i, j] = rbf_kernel(X[i], centers[j], sigma)\n",
    "    return np.dot(R, W)"
   ]
  },
  {
   "cell_type": "code",
   "execution_count": 9,
   "id": "b3d178b7",
   "metadata": {},
   "outputs": [],
   "source": [
    "# Make predictions\n",
    "y_pred = rbf_network(X, centers, sigma, W)"
   ]
  },
  {
   "cell_type": "code",
   "execution_count": 10,
   "id": "f530469d",
   "metadata": {},
   "outputs": [
    {
     "name": "stdout",
     "output_type": "stream",
     "text": [
      "[[-2.22044605e-16]\n",
      " [ 1.00000000e+00]\n",
      " [ 1.00000000e+00]\n",
      " [-6.66133815e-16]]\n"
     ]
    }
   ],
   "source": [
    "print(y_pred)"
   ]
  },
  {
   "cell_type": "code",
   "execution_count": 11,
   "id": "86812cad",
   "metadata": {},
   "outputs": [
    {
     "name": "stdout",
     "output_type": "stream",
     "text": [
      "Mean Squared Error: 2.6192647243666408e-31\n"
     ]
    }
   ],
   "source": [
    "# Evaluate the model\n",
    "mse = np.mean(np.square(Y - y_pred))\n",
    "print(\"Mean Squared Error:\",mse)"
   ]
  },
  {
   "cell_type": "markdown",
   "id": "e68d4a1a",
   "metadata": {},
   "source": [
    "## Activity to do\n",
    "1. Implement for other kernal fucntion and centers <br>\n",
    "2. Compare ateleast to kernel fucntion <br>\n",
    "3. Generate a random data and implement <br>"
   ]
  },
  {
   "cell_type": "markdown",
   "id": "9d32cae5",
   "metadata": {},
   "source": []
  }
 ],
 "metadata": {
  "kernelspec": {
   "display_name": "Python 3",
   "language": "python",
   "name": "python3"
  },
  "language_info": {
   "codemirror_mode": {
    "name": "ipython",
    "version": 3
   },
   "file_extension": ".py",
   "mimetype": "text/x-python",
   "name": "python",
   "nbconvert_exporter": "python",
   "pygments_lexer": "ipython3",
   "version": "3.13.2"
  }
 },
 "nbformat": 4,
 "nbformat_minor": 5
}
